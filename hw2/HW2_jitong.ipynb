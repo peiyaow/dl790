{
 "cells": [
  {
   "cell_type": "code",
   "execution_count": 4,
   "metadata": {},
   "outputs": [],
   "source": [
    "from __future__ import print_function\n",
    "from matplotlib import pyplot as plt\n",
    "%matplotlib inline\n",
    "import keras\n",
    "# from keras.datasets import fashion_mnist\n",
    "from keras.models import Sequential\n",
    "from keras.layers import Dense, Dropout, Flatten\n",
    "from keras.layers import Conv2D, MaxPooling2D\n",
    "from keras.optimizers import SGD\n",
    "from keras.callbacks import LearningRateScheduler\n",
    "from keras import backend as K\n",
    "import numpy as np\n",
    "np.random.seed(123)"
   ]
  },
  {
   "cell_type": "code",
   "execution_count": 70,
   "metadata": {},
   "outputs": [],
   "source": [
    "batch_size = 8\n",
    "num_classes = 2\n",
    "epochs = 50\n",
    "max_iter = 300"
   ]
  },
  {
   "cell_type": "code",
   "execution_count": 28,
   "metadata": {},
   "outputs": [],
   "source": [
    "# input image dimensions\n",
    "img_rows, img_cols = 64, 64\n",
    "# number of channels\n",
    "channels = 3"
   ]
  },
  {
   "cell_type": "code",
   "execution_count": 5,
   "metadata": {},
   "outputs": [],
   "source": [
    "import h5py  \n",
    "def load_data():  \n",
    "    train_dataset = h5py.File('C:/Users/wlou/ml/env/stor894/dataset/Cat_and_NonCat/train_catvnoncat.h5', \"r\")  \n",
    "    train_set_x_orig = np.array(train_dataset[\"train_set_x\"][:]) # your train set features  \n",
    "    train_set_y_orig = np.array(train_dataset[\"train_set_y\"][:]) # your train set labels  \n",
    "    test_dataset = h5py.File('C:/Users/wlou/ml/env/stor894/dataset/Cat_and_NonCat/test_catvnoncat.h5', \"r\")  \n",
    "    test_set_x_orig = np.array(test_dataset[\"test_set_x\"][:]) # your test set features  \n",
    "    test_set_y_orig = np.array(test_dataset[\"test_set_y\"][:]) # your test set labels  \n",
    "    classes = np.array(test_dataset[\"list_classes\"][:]) # the list of classes  \n",
    "    return train_set_x_orig, train_set_y_orig, test_set_x_orig, test_set_y_orig, classes  "
   ]
  },
  {
   "cell_type": "code",
   "execution_count": 7,
   "metadata": {},
   "outputs": [],
   "source": [
    "x_train, y_train, x_test, y_test, classes = load_data()"
   ]
  },
  {
   "cell_type": "code",
   "execution_count": 13,
   "metadata": {},
   "outputs": [
    {
     "name": "stdout",
     "output_type": "stream",
     "text": [
      "(209, 64, 64, 3)\n",
      "(50, 64, 64, 3)\n",
      "(209,)\n",
      "[1 1 1 1 1 0 1 1 1 1 1 1 1 0 0 1 0 1 1 1 1 0 0 1 1 1 1 0 1 0 1 1 1 1 0 0 0\n",
      " 1 0 0 1 1 1 0 0 0 1 1 1 0]\n"
     ]
    }
   ],
   "source": [
    "print(x_train.shape)"
   ]
  },
  {
   "cell_type": "code",
   "execution_count": 34,
   "metadata": {},
   "outputs": [
    {
     "name": "stdout",
     "output_type": "stream",
     "text": [
      "[[[17 31 56]\n",
      "  [22 33 59]\n",
      "  [25 35 62]\n",
      "  ...\n",
      "  [ 1 28 57]\n",
      "  [ 1 26 56]\n",
      "  [ 1 22 51]]\n",
      "\n",
      " [[25 36 62]\n",
      "  [28 38 64]\n",
      "  [30 40 67]\n",
      "  ...\n",
      "  [ 1 27 56]\n",
      "  [ 1 25 55]\n",
      "  [ 2 21 51]]\n",
      "\n",
      " [[32 40 67]\n",
      "  [34 42 69]\n",
      "  [35 42 70]\n",
      "  ...\n",
      "  [ 1 25 55]\n",
      "  [ 0 24 54]\n",
      "  [ 1 21 51]]\n",
      "\n",
      " ...\n",
      "\n",
      " [[ 0  0  0]\n",
      "  [ 0  0  0]\n",
      "  [ 0  0  0]\n",
      "  ...\n",
      "  [ 0  0  0]\n",
      "  [ 0  0  0]\n",
      "  [ 0  0  0]]\n",
      "\n",
      " [[ 0  0  0]\n",
      "  [ 0  0  0]\n",
      "  [ 0  0  0]\n",
      "  ...\n",
      "  [ 0  0  0]\n",
      "  [ 0  0  0]\n",
      "  [ 0  0  0]]\n",
      "\n",
      " [[ 0  0  0]\n",
      "  [ 0  0  0]\n",
      "  [ 0  0  0]\n",
      "  ...\n",
      "  [ 0  0  0]\n",
      "  [ 0  0  0]\n",
      "  [ 0  0  0]]]\n"
     ]
    }
   ],
   "source": [
    "print(x_train[0,:,:,:]) # each column is a channel"
   ]
  },
  {
   "cell_type": "code",
   "execution_count": 19,
   "metadata": {},
   "outputs": [
    {
     "data": {
      "text/plain": [
       "<matplotlib.image.AxesImage at 0x11c7a22f710>"
      ]
     },
     "execution_count": 19,
     "metadata": {},
     "output_type": "execute_result"
    },
    {
     "data": {
      "image/png": "[encoded data removed]",
      "text/plain": [
       "<Figure size 432x288 with 1 Axes>"
      ]
     },
     "metadata": {
      "needs_background": "light"
     },
     "output_type": "display_data"
    }
   ],
   "source": [
    "plt.imshow(x_train[0])"
   ]
  },
  {
   "cell_type": "code",
   "execution_count": 29,
   "metadata": {},
   "outputs": [
    {
     "name": "stdout",
     "output_type": "stream",
     "text": [
      "channels_last\n"
     ]
    }
   ],
   "source": [
    "print(K.image_data_format()) # difference between Theano and TensorFlow\n",
    "if K.image_data_format() == 'channels_first':\n",
    "    x_train = x_train.reshape(x_train.shape[0], channels, img_rows, img_cols)\n",
    "    x_test = x_test.reshape(x_test.shape[0], channels, img_rows, img_cols)\n",
    "    input_shape = (channels, img_rows, img_cols)\n",
    "else:\n",
    "    x_train = x_train.reshape(x_train.shape[0], img_rows, img_cols, channels)\n",
    "    x_test = x_test.reshape(x_test.shape[0], img_rows, img_cols, channels)\n",
    "    input_shape = (img_rows, img_cols, channels)"
   ]
  },
  {
   "cell_type": "code",
   "execution_count": 35,
   "metadata": {},
   "outputs": [
    {
     "name": "stdout",
     "output_type": "stream",
     "text": [
      "x_train shape: (209, 64, 64, 3)\n",
      "209 train samples\n",
      "50 test samples\n"
     ]
    }
   ],
   "source": [
    "x_train = x_train.astype('float32') # x_train.dtype\n",
    "x_test = x_test.astype('float32')\n",
    "x_train /= 255\n",
    "x_test /= 255\n",
    "print('x_train shape:', x_train.shape)\n",
    "print(x_train.shape[0], 'train samples')\n",
    "print(x_test.shape[0], 'test samples')"
   ]
  },
  {
   "cell_type": "code",
   "execution_count": 37,
   "metadata": {},
   "outputs": [
    {
     "name": "stdout",
     "output_type": "stream",
     "text": [
      "[0 0 1 0 0 0 0 1 0 0]\n"
     ]
    }
   ],
   "source": [
    "print(y_train[:10])"
   ]
  },
  {
   "cell_type": "code",
   "execution_count": 52,
   "metadata": {},
   "outputs": [],
   "source": [
    "# convert class vectors to binary class matrices\n",
    "y_train = keras.utils.to_categorical(y_train, num_classes)\n",
    "y_test = keras.utils.to_categorical(y_test, num_classes)"
   ]
  },
  {
   "cell_type": "code",
   "execution_count": 53,
   "metadata": {},
   "outputs": [
    {
     "name": "stdout",
     "output_type": "stream",
     "text": [
      "[[1. 0.]\n",
      " [1. 0.]\n",
      " [0. 1.]\n",
      " [1. 0.]\n",
      " [1. 0.]\n",
      " [1. 0.]\n",
      " [1. 0.]\n",
      " [0. 1.]\n",
      " [1. 0.]\n",
      " [1. 0.]]\n"
     ]
    }
   ],
   "source": [
    "print(y_train[:10])"
   ]
  },
  {
   "cell_type": "code",
   "execution_count": 36,
   "metadata": {},
   "outputs": [
    {
     "name": "stdout",
     "output_type": "stream",
     "text": [
      "[b'non-cat' b'cat']\n"
     ]
    }
   ],
   "source": [
    "print(classes) # binary, 0 is non-cat, 1 is cat"
   ]
  },
  {
   "cell_type": "code",
   "execution_count": 55,
   "metadata": {},
   "outputs": [],
   "source": [
    "# declaring a sequential model format\n",
    "model = Sequential()"
   ]
  },
  {
   "cell_type": "code",
   "execution_count": 56,
   "metadata": {},
   "outputs": [],
   "source": [
    "# declare the input layer\n",
    "model.add(Flatten(input_shape=input_shape))\n",
    "model.add(Dense(1024, activation='relu'))\n",
    "model.add(Dropout(0.25))\n",
    "model.add(Dense(1024, activation='relu'))\n",
    "model.add(Dropout(0.25))\n",
    "model.add(Dense(num_classes, activation='softmax'))"
   ]
  },
  {
   "cell_type": "code",
   "execution_count": 57,
   "metadata": {},
   "outputs": [],
   "source": [
    "sgd = SGD(lr=0.0)"
   ]
  },
  {
   "cell_type": "code",
   "execution_count": 58,
   "metadata": {},
   "outputs": [],
   "source": [
    "model.compile(loss=keras.losses.categorical_crossentropy,\n",
    "              # optimizer=keras.optimizers.Adadelta(),\n",
    "              optimizer=sgd,\n",
    "              metrics=['accuracy'])"
   ]
  },
  {
   "cell_type": "code",
   "execution_count": 59,
   "metadata": {},
   "outputs": [
    {
     "name": "stdout",
     "output_type": "stream",
     "text": [
      "_________________________________________________________________\n",
      "Layer (type)                 Output Shape              Param #   \n",
      "=================================================================\n",
      "flatten_3 (Flatten)          (None, 12288)             0         \n",
      "_________________________________________________________________\n",
      "dense_6 (Dense)              (None, 1024)              12583936  \n",
      "_________________________________________________________________\n",
      "dropout_5 (Dropout)          (None, 1024)              0         \n",
      "_________________________________________________________________\n",
      "dense_7 (Dense)              (None, 1024)              1049600   \n",
      "_________________________________________________________________\n",
      "dropout_6 (Dropout)          (None, 1024)              0         \n",
      "_________________________________________________________________\n",
      "dense_8 (Dense)              (None, 2)                 2050      \n",
      "=================================================================\n",
      "Total params: 13,635,586\n",
      "Trainable params: 13,635,586\n",
      "Non-trainable params: 0\n",
      "_________________________________________________________________\n",
      "None\n"
     ]
    }
   ],
   "source": [
    "print(model.summary())"
   ]
  },
  {
   "cell_type": "code",
   "execution_count": 60,
   "metadata": {},
   "outputs": [],
   "source": [
    "# learning rate schedule\n",
    "'''\n",
    "def my_decay(epoch):\n",
    "    tau = epochs\n",
    "    e_0 = 0.01\n",
    "    e_tau = 0.01 * e_0\n",
    "    a_k = epoch/tau\n",
    "    e_k = (1-a_k) * e_0 + a_k * e_tau\n",
    "    return e_k\n",
    "'''\n",
    "def my_decay(iteration):\n",
    "    tau = max_iter\n",
    "    e_0 = 0.01\n",
    "    e_tau = 0.01 * e_0\n",
    "    a_k = min(iteration/tau, 1)\n",
    "    e_k = (1-a_k) * e_0 + a_k * e_tau\n",
    "    return e_k"
   ]
  },
  {
   "cell_type": "code",
   "execution_count": 61,
   "metadata": {},
   "outputs": [],
   "source": [
    "# create a custom callback by extending the base class keras.callbacks.Callback\n",
    "# to record loss history and learning rate during the training procedure.\n",
    "class LossHistory(keras.callbacks.Callback):\n",
    "    def on_train_begin(self, logs={}):\n",
    "       self.losses = []\n",
    "       self.lr = []\n",
    "        \n",
    "    def on_batch_end(self, batch, logs={}):\n",
    "       self.losses.append(logs.get('loss'))\n",
    "       self.lr.append(my_decay(len(self.losses)))"
   ]
  },
  {
   "cell_type": "code",
   "execution_count": 62,
   "metadata": {},
   "outputs": [],
   "source": [
    "loss_history = LossHistory()\n",
    "lrate = LearningRateScheduler(my_decay)\n",
    "callbacks_list = [loss_history, lrate]"
   ]
  },
  {
   "cell_type": "code",
   "execution_count": 71,
   "metadata": {},
   "outputs": [
    {
     "name": "stdout",
     "output_type": "stream",
     "text": [
      "Train on 209 samples, validate on 50 samples\n",
      "Epoch 1/50\n",
      "209/209 [==============================] - 4s 18ms/step - loss: 0.2558 - acc: 0.8900 - val_loss: 0.9895 - val_acc: 0.5600\n",
      "Epoch 2/50\n",
      "209/209 [==============================] - 4s 18ms/step - loss: 0.2376 - acc: 0.8900 - val_loss: 0.6114 - val_acc: 0.7600\n",
      "Epoch 3/50\n",
      "209/209 [==============================] - 4s 17ms/step - loss: 0.2305 - acc: 0.8852 - val_loss: 2.0240 - val_acc: 0.4800\n",
      "Epoch 4/50\n",
      "209/209 [==============================] - 4s 18ms/step - loss: 0.2501 - acc: 0.8995 - val_loss: 0.7677 - val_acc: 0.8000\n",
      "Epoch 5/50\n",
      "209/209 [==============================] - 4s 18ms/step - loss: 0.1903 - acc: 0.9139 - val_loss: 1.2555 - val_acc: 0.5800\n",
      "Epoch 6/50\n",
      "209/209 [==============================] - 4s 17ms/step - loss: 0.1350 - acc: 0.9522 - val_loss: 0.7429 - val_acc: 0.7800\n",
      "Epoch 7/50\n",
      "209/209 [==============================] - 4s 20ms/step - loss: 0.1372 - acc: 0.9569 - val_loss: 1.9681 - val_acc: 0.6600\n",
      "Epoch 8/50\n",
      "209/209 [==============================] - 4s 19ms/step - loss: 0.4288 - acc: 0.8517 - val_loss: 0.6319 - val_acc: 0.7400\n",
      "Epoch 9/50\n",
      "209/209 [==============================] - 4s 18ms/step - loss: 0.2243 - acc: 0.8995 - val_loss: 1.1184 - val_acc: 0.5400\n",
      "Epoch 10/50\n",
      "209/209 [==============================] - 4s 18ms/step - loss: 0.1802 - acc: 0.9139 - val_loss: 5.1698 - val_acc: 0.3600\n",
      "Epoch 11/50\n",
      "209/209 [==============================] - 4s 18ms/step - loss: 0.3917 - acc: 0.8660 - val_loss: 0.7179 - val_acc: 0.7400\n",
      "Epoch 12/50\n",
      "209/209 [==============================] - 4s 18ms/step - loss: 0.2220 - acc: 0.9378 - val_loss: 0.7709 - val_acc: 0.7200\n",
      "Epoch 13/50\n",
      "209/209 [==============================] - 4s 18ms/step - loss: 0.1790 - acc: 0.9187 - val_loss: 1.0861 - val_acc: 0.6600\n",
      "Epoch 14/50\n",
      "209/209 [==============================] - 4s 18ms/step - loss: 0.1876 - acc: 0.9234 - val_loss: 0.7931 - val_acc: 0.7400\n",
      "Epoch 15/50\n",
      "209/209 [==============================] - 4s 18ms/step - loss: 0.2071 - acc: 0.9187 - val_loss: 0.8257 - val_acc: 0.7200\n",
      "Epoch 16/50\n",
      "209/209 [==============================] - 4s 19ms/step - loss: 0.1255 - acc: 0.9569 - val_loss: 0.7755 - val_acc: 0.7600\n",
      "Epoch 17/50\n",
      "209/209 [==============================] - 4s 18ms/step - loss: 0.1148 - acc: 0.9522 - val_loss: 0.9389 - val_acc: 0.7400\n",
      "Epoch 18/50\n",
      "209/209 [==============================] - 4s 18ms/step - loss: 0.1315 - acc: 0.9617 - val_loss: 1.0069 - val_acc: 0.6600\n",
      "Epoch 19/50\n",
      "209/209 [==============================] - 4s 18ms/step - loss: 0.1247 - acc: 0.9569 - val_loss: 0.8470 - val_acc: 0.7600\n",
      "Epoch 20/50\n",
      "209/209 [==============================] - 4s 19ms/step - loss: 0.1401 - acc: 0.9569 - val_loss: 0.7285 - val_acc: 0.7400\n",
      "Epoch 21/50\n",
      "209/209 [==============================] - 4s 19ms/step - loss: 0.1343 - acc: 0.9474 - val_loss: 3.0179 - val_acc: 0.6600\n",
      "Epoch 22/50\n",
      "209/209 [==============================] - 4s 18ms/step - loss: 0.4861 - acc: 0.8804 - val_loss: 0.7598 - val_acc: 0.7400\n",
      "Epoch 23/50\n",
      "209/209 [==============================] - 4s 18ms/step - loss: 0.1159 - acc: 0.9761 - val_loss: 0.8943 - val_acc: 0.7400\n",
      "Epoch 24/50\n",
      "209/209 [==============================] - 4s 18ms/step - loss: 0.1661 - acc: 0.9426 - val_loss: 0.7967 - val_acc: 0.7200\n",
      "Epoch 25/50\n",
      "209/209 [==============================] - 4s 18ms/step - loss: 0.1164 - acc: 0.9569 - val_loss: 1.1064 - val_acc: 0.7000\n",
      "Epoch 26/50\n",
      "209/209 [==============================] - 4s 18ms/step - loss: 0.0837 - acc: 0.9809 - val_loss: 1.0519 - val_acc: 0.7000\n",
      "Epoch 27/50\n",
      "209/209 [==============================] - 4s 18ms/step - loss: 0.1380 - acc: 0.9617 - val_loss: 0.8315 - val_acc: 0.7800\n",
      "Epoch 28/50\n",
      "209/209 [==============================] - 4s 18ms/step - loss: 0.0839 - acc: 0.9713 - val_loss: 1.0370 - val_acc: 0.7400\n",
      "Epoch 29/50\n",
      "209/209 [==============================] - 4s 18ms/step - loss: 0.0772 - acc: 0.9856 - val_loss: 1.1075 - val_acc: 0.7400\n",
      "Epoch 30/50\n",
      "209/209 [==============================] - 4s 18ms/step - loss: 0.0833 - acc: 0.9713 - val_loss: 1.3609 - val_acc: 0.6800\n",
      "Epoch 31/50\n",
      "209/209 [==============================] - 4s 18ms/step - loss: 0.0825 - acc: 0.9761 - val_loss: 0.9267 - val_acc: 0.7400\n",
      "Epoch 32/50\n",
      "209/209 [==============================] - 4s 20ms/step - loss: 0.0768 - acc: 0.9856 - val_loss: 0.9875 - val_acc: 0.7600\n",
      "Epoch 33/50\n",
      "209/209 [==============================] - 5s 22ms/step - loss: 0.0956 - acc: 0.9617 - val_loss: 1.0029 - val_acc: 0.8000\n",
      "Epoch 34/50\n",
      "209/209 [==============================] - 5s 23ms/step - loss: 0.0738 - acc: 0.9856 - val_loss: 2.0726 - val_acc: 0.5400\n",
      "Epoch 35/50\n",
      "209/209 [==============================] - 4s 18ms/step - loss: 0.3435 - acc: 0.8660 - val_loss: 1.2892 - val_acc: 0.6400\n",
      "Epoch 36/50\n",
      "209/209 [==============================] - 4s 21ms/step - loss: 0.0713 - acc: 0.9952 - val_loss: 0.8720 - val_acc: 0.7600\n",
      "Epoch 37/50\n",
      "209/209 [==============================] - 4s 18ms/step - loss: 0.0395 - acc: 1.0000 - val_loss: 0.9744 - val_acc: 0.7800\n",
      "Epoch 38/50\n",
      "209/209 [==============================] - 4s 19ms/step - loss: 0.0457 - acc: 0.9904 - val_loss: 1.0385 - val_acc: 0.7600\n",
      "Epoch 39/50\n",
      "209/209 [==============================] - 4s 18ms/step - loss: 0.0423 - acc: 1.0000 - val_loss: 1.1504 - val_acc: 0.7400\n",
      "Epoch 40/50\n",
      "209/209 [==============================] - 4s 18ms/step - loss: 0.0627 - acc: 0.9809 - val_loss: 1.0475 - val_acc: 0.7400\n",
      "Epoch 41/50\n",
      "209/209 [==============================] - 4s 18ms/step - loss: 0.0431 - acc: 0.9904 - val_loss: 1.0289 - val_acc: 0.7400\n",
      "Epoch 42/50\n",
      "209/209 [==============================] - 4s 18ms/step - loss: 0.0983 - acc: 0.9617 - val_loss: 1.0534 - val_acc: 0.7600\n",
      "Epoch 43/50\n",
      "209/209 [==============================] - 4s 18ms/step - loss: 0.0294 - acc: 1.0000 - val_loss: 1.2183 - val_acc: 0.7400\n",
      "Epoch 44/50\n",
      "209/209 [==============================] - 4s 18ms/step - loss: 0.0328 - acc: 0.9952 - val_loss: 1.0972 - val_acc: 0.7600\n",
      "Epoch 45/50\n",
      "209/209 [==============================] - 4s 18ms/step - loss: 0.0355 - acc: 0.9952 - val_loss: 1.5831 - val_acc: 0.7000\n",
      "Epoch 46/50\n",
      "209/209 [==============================] - 4s 18ms/step - loss: 0.0723 - acc: 0.9665 - val_loss: 1.1660 - val_acc: 0.7400\n",
      "Epoch 47/50\n",
      "209/209 [==============================] - 4s 19ms/step - loss: 0.0192 - acc: 0.9952 - val_loss: 1.4965 - val_acc: 0.7000\n",
      "Epoch 48/50\n",
      "209/209 [==============================] - 4s 18ms/step - loss: 0.0229 - acc: 0.9952 - val_loss: 1.1873 - val_acc: 0.7600\n",
      "Epoch 49/50\n",
      "209/209 [==============================] - 4s 19ms/step - loss: 0.0140 - acc: 1.0000 - val_loss: 1.4110 - val_acc: 0.7200\n",
      "Epoch 50/50\n",
      "209/209 [==============================] - 4s 19ms/step - loss: 0.0172 - acc: 1.0000 - val_loss: 1.2566 - val_acc: 0.7600\n"
     ]
    },
    {
     "data": {
      "text/plain": [
       "<keras.callbacks.History at 0x11c0ccb75c0>"
      ]
     },
     "execution_count": 71,
     "metadata": {},
     "output_type": "execute_result"
    }
   ],
   "source": [
    "model.fit(x_train, y_train,\n",
    "          batch_size=batch_size,\n",
    "          epochs=epochs,\n",
    "          callbacks=callbacks_list,\n",
    "          verbose=1, # verbose: Integer. 0, 1, or 2. Verbosity mode. 0 = silent, 1 = progress bar, 2 = one line per epoch.\n",
    "          validation_data=(x_test, y_test))"
   ]
  },
  {
   "cell_type": "code",
   "execution_count": 72,
   "metadata": {},
   "outputs": [
    {
     "name": "stdout",
     "output_type": "stream",
     "text": [
      "Test loss: 1.2566493225097657\n",
      "Test accuracy: 0.7600000047683716\n"
     ]
    }
   ],
   "source": [
    "score = model.evaluate(x_test, y_test, verbose=0)\n",
    "print('Test loss:', score[0])\n",
    "print('Test accuracy:', score[1])"
   ]
  },
  {
   "cell_type": "code",
   "execution_count": 73,
   "metadata": {},
   "outputs": [
    {
     "name": "stdout",
     "output_type": "stream",
     "text": [
      "1350\n"
     ]
    }
   ],
   "source": [
    "print(len(loss_history.lr))"
   ]
  },
  {
   "cell_type": "code",
   "execution_count": 74,
   "metadata": {},
   "outputs": [
    {
     "name": "stdout",
     "output_type": "stream",
     "text": [
      "[0.106889986, 0.20884332, 0.25909594, 0.23843935, 0.4380064, 0.17420724, 0.22225165, 0.23803595, 0.934217, 0.09231314]\n",
      "[0.009967, 0.009934, 0.009901, 0.009868000000000002, 0.009835, 0.009802, 0.009769, 0.009736, 0.009703, 0.00967]\n"
     ]
    }
   ],
   "source": [
    "print(loss_history.losses[:10])\n",
    "print(loss_history.lr[:10])"
   ]
  },
  {
   "cell_type": "code",
   "execution_count": 75,
   "metadata": {},
   "outputs": [
    {
     "data": {
      "image/png": "[encoded data removed]",
      "text/plain": [
       "<Figure size 432x288 with 1 Axes>"
      ]
     },
     "metadata": {
      "needs_background": "light"
     },
     "output_type": "display_data"
    }
   ],
   "source": [
    "plt.plot(loss_history.lr)\n",
    "plt.ylabel('learning rate')\n",
    "plt.xlabel('iteration')\n",
    "plt.show()"
   ]
  },
  {
   "cell_type": "code",
   "execution_count": null,
   "metadata": {},
   "outputs": [],
   "source": []
  }
 ],
 "metadata": {
  "kernelspec": {
   "display_name": "Python 3",
   "language": "python",
   "name": "python3"
  },
  "language_info": {
   "codemirror_mode": {
    "name": "ipython",
    "version": 3
   },
   "file_extension": ".py",
   "mimetype": "text/x-python",
   "name": "python",
   "nbconvert_exporter": "python",
   "pygments_lexer": "ipython3",
   "version": "3.7.2"
  }
 },
 "nbformat": 4,
 "nbformat_minor": 2
}
