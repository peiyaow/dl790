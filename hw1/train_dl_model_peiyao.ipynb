{
  "nbformat": 4,
  "nbformat_minor": 0,
  "metadata": {
    "colab": {
      "name": "train_dl_model_peiyao.ipynb",
      "version": "0.3.2",
      "provenance": [],
      "include_colab_link": true
    },
    "kernelspec": {
      "name": "python3",
      "display_name": "Python 3"
    },
    "accelerator": "GPU"
  },
  "cells": [
    {
      "cell_type": "markdown",
      "metadata": {
        "id": "view-in-github",
        "colab_type": "text"
      },
      "source": [
        "<a href=\"https://colab.research.google.com/github/peiyaow/dl790/blob/master/hw1/train_dl_model_peiyao.ipynb\" target=\"_parent\"><img src=\"https://colab.research.google.com/assets/colab-badge.svg\" alt=\"Open In Colab\"/></a>"
      ]
    },
    {
      "cell_type": "code",
      "metadata": {
        "id": "qaRs8uxViwlT",
        "colab_type": "code",
        "colab": {
          "base_uri": "https://localhost:8080/",
          "height": 34
        },
        "outputId": "aa47d449-de1c-4b22-ff03-33bfcaf337ba"
      },
      "source": [
        "from keras.datasets import fashion_mnist\n",
        "import numpy as np\n",
        "import torch\n",
        "import torch.optim as optim\n",
        "import torch.nn as nn\n",
        "from torch.utils.data import Dataset, DataLoader\n",
        "from torch.autograd import Variable"
      ],
      "execution_count": 1,
      "outputs": [
        {
          "output_type": "stream",
          "text": [
            "Using TensorFlow backend.\n"
          ],
          "name": "stderr"
        }
      ]
    },
    {
      "cell_type": "markdown",
      "metadata": {
        "id": "rTdjfijN2GWz",
        "colab_type": "text"
      },
      "source": [
        "# Parameters"
      ]
    },
    {
      "cell_type": "code",
      "metadata": {
        "id": "9_UQnI4ijJE9",
        "colab_type": "code",
        "colab": {}
      },
      "source": [
        "# using GPU\n",
        "use_cuda = True\n",
        "# model parameters\n",
        "# N: batch size\n",
        "N, D_in, H1, H2, D_out = 64, 28*28, 1024, 1024, 10\n",
        "num_epochs = 20"
      ],
      "execution_count": 0,
      "outputs": []
    },
    {
      "cell_type": "markdown",
      "metadata": {
        "id": "zrWlXLIw1FYG",
        "colab_type": "text"
      },
      "source": [
        "# Define PrepareData class"
      ]
    },
    {
      "cell_type": "code",
      "metadata": {
        "id": "X6zzxmO5jPJ4",
        "colab_type": "code",
        "colab": {}
      },
      "source": [
        "# define prepare dataset\n",
        "class PrepareData(Dataset):\n",
        "\n",
        "    def __init__(self, X, y):\n",
        "        if not torch.is_tensor(X):\n",
        "            self.X = torch.from_numpy(X)\n",
        "        if not torch.is_tensor(y):\n",
        "            self.y = torch.from_numpy(y)\n",
        "\n",
        "    def __len__(self):\n",
        "        return len(self.X)\n",
        "\n",
        "    def __getitem__(self, idx):\n",
        "        return self.X[idx], self.y[idx]"
      ],
      "execution_count": 0,
      "outputs": []
    },
    {
      "cell_type": "markdown",
      "metadata": {
        "id": "YYJUi05D1XMM",
        "colab_type": "text"
      },
      "source": [
        "# Download data"
      ]
    },
    {
      "cell_type": "code",
      "metadata": {
        "id": "Y9GXlZ1njSxa",
        "colab_type": "code",
        "colab": {
          "base_uri": "https://localhost:8080/",
          "height": 153
        },
        "outputId": "940ac64b-b5f9-4d50-91ed-ef6c35fe0aab"
      },
      "source": [
        "# loading data\n",
        "(x_train, y_train), (x_test, y_test) = fashion_mnist.load_data()\n",
        "\n",
        "x_train, x_test = np.array(x_train), np.array(x_test)\n",
        "y_train, y_test = np.array(y_train), np.array(y_test)\n",
        "\n",
        "# transform the data\n",
        "n_train = x_train.shape[0]\n",
        "n_test = x_test.shape[0]\n",
        "x_train = x_train.reshape([n_train, 28*28])\n",
        "x_test = x_test.reshape([n_test, 28*28])\n",
        "\n",
        "ds = PrepareData(X=x_train, y=y_train)\n",
        "ds = DataLoader(ds, batch_size=N, shuffle=True)"
      ],
      "execution_count": 7,
      "outputs": [
        {
          "output_type": "stream",
          "text": [
            "Downloading data from http://fashion-mnist.s3-website.eu-central-1.amazonaws.com/train-labels-idx1-ubyte.gz\n",
            "32768/29515 [=================================] - 0s 0us/step\n",
            "Downloading data from http://fashion-mnist.s3-website.eu-central-1.amazonaws.com/train-images-idx3-ubyte.gz\n",
            "26427392/26421880 [==============================] - 0s 0us/step\n",
            "Downloading data from http://fashion-mnist.s3-website.eu-central-1.amazonaws.com/t10k-labels-idx1-ubyte.gz\n",
            "8192/5148 [===============================================] - 0s 0us/step\n",
            "Downloading data from http://fashion-mnist.s3-website.eu-central-1.amazonaws.com/t10k-images-idx3-ubyte.gz\n",
            "4423680/4422102 [==============================] - 0s 0us/step\n"
          ],
          "name": "stdout"
        }
      ]
    },
    {
      "cell_type": "markdown",
      "metadata": {
        "id": "r3TZ2T3S14FV",
        "colab_type": "text"
      },
      "source": [
        "# Define TwoLayerNet class"
      ]
    },
    {
      "cell_type": "code",
      "metadata": {
        "id": "wyBTL1Ej13IS",
        "colab_type": "code",
        "colab": {}
      },
      "source": [
        "# define model\n",
        "class TwoLayerNet(nn.Module):\n",
        "    def __init__(self, D_in, H1, H2, D_out):\n",
        "        super(TwoLayerNet, self).__init__()\n",
        "        self.model = nn.Sequential(\n",
        "            nn.Linear(D_in, H1),\n",
        "            nn.Sigmoid(),\n",
        "            nn.Linear(H1, H2),\n",
        "            nn.Sigmoid(),\n",
        "            nn.Linear(H2, D_out),\n",
        "        )\n",
        "\n",
        "    def forward(self, x):\n",
        "        return self.model(x)\n",
        "      \n",
        "# dl model\n",
        "model = TwoLayerNet(D_in, H1, H2, D_out)\n",
        "model.cuda()"
      ],
      "execution_count": 0,
      "outputs": []
    },
    {
      "cell_type": "markdown",
      "metadata": {
        "id": "fIiP-Jsv1cUy",
        "colab_type": "text"
      },
      "source": [
        "# Loss function and optimizer"
      ]
    },
    {
      "cell_type": "code",
      "metadata": {
        "id": "RWnnjCKZjvnZ",
        "colab_type": "code",
        "colab": {}
      },
      "source": [
        "# define loss function\n",
        "loss_fn = nn.CrossEntropyLoss()\n",
        "learning_rate = 1e-4\n",
        "optimizer = optim.Adam(model.parameters(), lr=lr)"
      ],
      "execution_count": 0,
      "outputs": []
    },
    {
      "cell_type": "markdown",
      "metadata": {
        "id": "Fi4Jnpdd2DTM",
        "colab_type": "text"
      },
      "source": [
        "# Train model"
      ]
    },
    {
      "cell_type": "code",
      "metadata": {
        "id": "D7gSRQGWjcsO",
        "colab_type": "code",
        "colab": {}
      },
      "source": [
        "for t in range(num_epochs):\n",
        "    for x, y in ds:\n",
        "        x = Variable(x).float()\n",
        "        y = Variable(y).long()\n",
        "        \n",
        "        if use_cuda and torch.cuda.is_available():\n",
        "          x = x.cuda()\n",
        "          y = y.cuda()\n",
        "         \n",
        "        # Forward pass: Compute predicted y by passing x to the model\n",
        "        y_pred = model(x)\n",
        "\n",
        "        # Compute and print loss\n",
        "        loss = loss_fn(y_pred, y)\n",
        "\n",
        "        # Zero gradients, perform a backward pass, and update the weights.\n",
        "        optimizer.zero_grad()\n",
        "        loss.backward()\n",
        "        optimizer.step()"
      ],
      "execution_count": 0,
      "outputs": []
    },
    {
      "cell_type": "markdown",
      "metadata": {
        "id": "TsU_I0mizidK",
        "colab_type": "text"
      },
      "source": [
        "# Testing"
      ]
    },
    {
      "cell_type": "code",
      "metadata": {
        "id": "nR4Rq2MKzePg",
        "colab_type": "code",
        "colab": {}
      },
      "source": [
        "ds_test = PrepareData(X=x_test, y=y_test)\n",
        "ds_test = DataLoader(ds_test)"
      ],
      "execution_count": 0,
      "outputs": []
    },
    {
      "cell_type": "code",
      "metadata": {
        "id": "HMihIoBYzsJX",
        "colab_type": "code",
        "colab": {
          "base_uri": "https://localhost:8080/",
          "height": 34
        },
        "outputId": "050d80e9-0bb8-4a69-fd1d-114389dc3f65"
      },
      "source": [
        "correct = 0\n",
        "total = 0\n",
        "for data in ds_test:\n",
        "    x, y = data\n",
        "    x, y = x.float().cuda(), y.long().cuda()\n",
        "    outputs = model(x)\n",
        "    _, predicted = torch.max(outputs.data, 1)\n",
        "    total += y.size(0)\n",
        "    correct += (predicted == y).sum().item()\n",
        "print('Accuracy of the network on the 10000 test images: %d %%' % (\n",
        "    100 * correct / total))"
      ],
      "execution_count": 34,
      "outputs": [
        {
          "output_type": "stream",
          "text": [
            "Accuracy of the network on the 10000 test images: 85 %\n"
          ],
          "name": "stdout"
        }
      ]
    }
  ]
}