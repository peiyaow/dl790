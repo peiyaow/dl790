{
 "cells": [
  {
   "cell_type": "code",
   "execution_count": 31,
   "metadata": {},
   "outputs": [],
   "source": [
    "from __future__ import print_function\n",
    "import keras\n",
    "from keras.datasets import fashion_mnist\n",
    "from keras.models import Sequential\n",
    "from keras.layers import Dense, Dropout, Flatten\n",
    "from keras.layers import Conv2D, MaxPooling2D\n",
    "from keras import backend as K\n",
    "import numpy as np\n",
    "np.random.seed(123)"
   ]
  },
  {
   "cell_type": "code",
   "execution_count": 52,
   "metadata": {},
   "outputs": [],
   "source": [
    "batch_size = 128\n",
    "num_classes = 10\n",
    "epochs = 20"
   ]
  },
  {
   "cell_type": "code",
   "execution_count": 33,
   "metadata": {},
   "outputs": [],
   "source": [
    "# input image dimensions\n",
    "img_rows, img_cols = 28, 28"
   ]
  },
  {
   "cell_type": "code",
   "execution_count": 34,
   "metadata": {},
   "outputs": [],
   "source": [
    "# Load pre-shuffled data into train and test sets\n",
    "(x_train, y_train), (x_test, y_test) = fashion_mnist.load_data()"
   ]
  },
  {
   "cell_type": "code",
   "execution_count": 35,
   "metadata": {},
   "outputs": [
    {
     "name": "stdout",
     "output_type": "stream",
     "text": [
      "(60000, 28, 28)\n"
     ]
    }
   ],
   "source": [
    "print(x_train.shape)"
   ]
  },
  {
   "cell_type": "code",
   "execution_count": 36,
   "metadata": {},
   "outputs": [
    {
     "data": {
      "text/plain": [
       "<matplotlib.image.AxesImage at 0x2bd60c016d8>"
      ]
     },
     "execution_count": 36,
     "metadata": {},
     "output_type": "execute_result"
    },
    {
     "data": {
      "image/png": "[encoded data removed]",
      "text/plain": [
       "<Figure size 432x288 with 1 Axes>"
      ]
     },
     "metadata": {
      "needs_background": "light"
     },
     "output_type": "display_data"
    }
   ],
   "source": [
    "from matplotlib import pyplot as plt\n",
    "%matplotlib inline\n",
    "plt.imshow(x_train[0])"
   ]
  },
  {
   "cell_type": "code",
   "execution_count": 37,
   "metadata": {},
   "outputs": [
    {
     "name": "stdout",
     "output_type": "stream",
     "text": [
      "channels_last\n"
     ]
    }
   ],
   "source": [
    "print(K.image_data_format()) # difference between Theano and TensorFlow\n",
    "if K.image_data_format() == 'channels_first':\n",
    "    x_train = x_train.reshape(x_train.shape[0], 1, img_rows, img_cols)\n",
    "    x_test = x_test.reshape(x_test.shape[0], 1, img_rows, img_cols)\n",
    "    input_shape = (1, img_rows, img_cols)\n",
    "else:\n",
    "    x_train = x_train.reshape(x_train.shape[0], img_rows, img_cols, 1)\n",
    "    x_test = x_test.reshape(x_test.shape[0], img_rows, img_cols, 1)\n",
    "    input_shape = (img_rows, img_cols, 1)"
   ]
  },
  {
   "cell_type": "code",
   "execution_count": 38,
   "metadata": {},
   "outputs": [
    {
     "name": "stdout",
     "output_type": "stream",
     "text": [
      "x_train shape: (60000, 28, 28, 1)\n",
      "60000 train samples\n",
      "10000 test samples\n"
     ]
    }
   ],
   "source": [
    "x_train = x_train.astype('float32') # x_train.dtype\n",
    "x_test = x_test.astype('float32')\n",
    "x_train /= 255\n",
    "x_test /= 255\n",
    "print('x_train shape:', x_train.shape)\n",
    "print(x_train.shape[0], 'train samples')\n",
    "print(x_test.shape[0], 'test samples')"
   ]
  },
  {
   "cell_type": "code",
   "execution_count": 39,
   "metadata": {},
   "outputs": [
    {
     "name": "stdout",
     "output_type": "stream",
     "text": [
      "[9 0 0 3 0 2 7 2 5 5]\n"
     ]
    }
   ],
   "source": [
    "print(y_train[:10])"
   ]
  },
  {
   "cell_type": "code",
   "execution_count": 40,
   "metadata": {},
   "outputs": [],
   "source": [
    "# convert class vectors to binary class matrices\n",
    "y_train = keras.utils.to_categorical(y_train, num_classes)\n",
    "y_test = keras.utils.to_categorical(y_test, num_classes)"
   ]
  },
  {
   "cell_type": "markdown",
   "metadata": {},
   "source": [
    "# Define model structure"
   ]
  },
  {
   "cell_type": "code",
   "execution_count": 53,
   "metadata": {},
   "outputs": [],
   "source": [
    "# declaring a sequential model format\n",
    "model = Sequential()"
   ]
  },
  {
   "cell_type": "code",
   "execution_count": 54,
   "metadata": {},
   "outputs": [],
   "source": [
    "# declare the input layer\n",
    "model.add(Flatten(input_shape=input_shape))\n",
    "model.add(Dense(1024, activation='sigmoid'))\n",
    "model.add(Dropout(0.25))\n",
    "model.add(Dense(1024, activation='sigmoid'))\n",
    "model.add(Dropout(0.25))\n",
    "model.add(Dense(num_classes, activation='softmax'))"
   ]
  },
  {
   "cell_type": "markdown",
   "metadata": {},
   "source": [
    "# Compile model"
   ]
  },
  {
   "cell_type": "code",
   "execution_count": 55,
   "metadata": {},
   "outputs": [],
   "source": [
    "model.compile(loss=keras.losses.categorical_crossentropy,\n",
    "              # optimizer=keras.optimizers.Adadelta(),\n",
    "              optimizer=keras.optimizers.Adam(),\n",
    "              metrics=['accuracy'])"
   ]
  },
  {
   "cell_type": "code",
   "execution_count": 56,
   "metadata": {},
   "outputs": [
    {
     "name": "stdout",
     "output_type": "stream",
     "text": [
      "_________________________________________________________________\n",
      "Layer (type)                 Output Shape              Param #   \n",
      "=================================================================\n",
      "flatten_5 (Flatten)          (None, 784)               0         \n",
      "_________________________________________________________________\n",
      "dense_13 (Dense)             (None, 1024)              803840    \n",
      "_________________________________________________________________\n",
      "dropout_9 (Dropout)          (None, 1024)              0         \n",
      "_________________________________________________________________\n",
      "dense_14 (Dense)             (None, 1024)              1049600   \n",
      "_________________________________________________________________\n",
      "dropout_10 (Dropout)         (None, 1024)              0         \n",
      "_________________________________________________________________\n",
      "dense_15 (Dense)             (None, 10)                10250     \n",
      "=================================================================\n",
      "Total params: 1,863,690\n",
      "Trainable params: 1,863,690\n",
      "Non-trainable params: 0\n",
      "_________________________________________________________________\n",
      "None\n"
     ]
    }
   ],
   "source": [
    "print(model.summary())"
   ]
  },
  {
   "cell_type": "markdown",
   "metadata": {},
   "source": [
    "# Fit model on training data"
   ]
  },
  {
   "cell_type": "code",
   "execution_count": 57,
   "metadata": {},
   "outputs": [
    {
     "name": "stdout",
     "output_type": "stream",
     "text": [
      "Train on 60000 samples, validate on 10000 samples\n",
      "Epoch 1/20\n",
      "60000/60000 [==============================] - 42s 697us/step - loss: 0.6360 - acc: 0.7680 - val_loss: 0.4595 - val_acc: 0.8330\n",
      "Epoch 2/20\n",
      "60000/60000 [==============================] - 46s 769us/step - loss: 0.4283 - acc: 0.8429 - val_loss: 0.4209 - val_acc: 0.8474\n",
      "Epoch 3/20\n",
      "60000/60000 [==============================] - 47s 782us/step - loss: 0.3919 - acc: 0.8569 - val_loss: 0.3897 - val_acc: 0.8565\n",
      "Epoch 4/20\n",
      "60000/60000 [==============================] - 45s 754us/step - loss: 0.3656 - acc: 0.8659 - val_loss: 0.3856 - val_acc: 0.8612\n",
      "Epoch 5/20\n",
      "60000/60000 [==============================] - 47s 779us/step - loss: 0.3437 - acc: 0.8723 - val_loss: 0.3652 - val_acc: 0.8676\n",
      "Epoch 6/20\n",
      "60000/60000 [==============================] - 46s 774us/step - loss: 0.3294 - acc: 0.8779 - val_loss: 0.3507 - val_acc: 0.8733\n",
      "Epoch 7/20\n",
      "60000/60000 [==============================] - 49s 822us/step - loss: 0.3143 - acc: 0.8836 - val_loss: 0.3438 - val_acc: 0.8759\n",
      "Epoch 8/20\n",
      "60000/60000 [==============================] - 42s 704us/step - loss: 0.3038 - acc: 0.8866 - val_loss: 0.3376 - val_acc: 0.8794\n",
      "Epoch 9/20\n",
      "60000/60000 [==============================] - 41s 688us/step - loss: 0.2926 - acc: 0.8894 - val_loss: 0.3374 - val_acc: 0.8756\n",
      "Epoch 10/20\n",
      "60000/60000 [==============================] - 47s 785us/step - loss: 0.2815 - acc: 0.8953 - val_loss: 0.3514 - val_acc: 0.8746\n",
      "Epoch 11/20\n",
      "60000/60000 [==============================] - 42s 699us/step - loss: 0.2718 - acc: 0.8969 - val_loss: 0.3294 - val_acc: 0.8820\n",
      "Epoch 12/20\n",
      "60000/60000 [==============================] - 42s 699us/step - loss: 0.2646 - acc: 0.9008 - val_loss: 0.3421 - val_acc: 0.8791\n",
      "Epoch 13/20\n",
      "60000/60000 [==============================] - 42s 704us/step - loss: 0.2571 - acc: 0.9033 - val_loss: 0.3183 - val_acc: 0.8860\n",
      "Epoch 14/20\n",
      "60000/60000 [==============================] - 45s 742us/step - loss: 0.2492 - acc: 0.9052 - val_loss: 0.3205 - val_acc: 0.8847\n",
      "Epoch 15/20\n",
      "60000/60000 [==============================] - 42s 703us/step - loss: 0.2446 - acc: 0.9075 - val_loss: 0.3090 - val_acc: 0.8905\n",
      "Epoch 16/20\n",
      "60000/60000 [==============================] - 41s 688us/step - loss: 0.2375 - acc: 0.9093 - val_loss: 0.3147 - val_acc: 0.8913\n",
      "Epoch 17/20\n",
      "60000/60000 [==============================] - 48s 797us/step - loss: 0.2303 - acc: 0.9119 - val_loss: 0.3222 - val_acc: 0.8859\n",
      "Epoch 18/20\n",
      "60000/60000 [==============================] - 43s 712us/step - loss: 0.2249 - acc: 0.9141 - val_loss: 0.3079 - val_acc: 0.8887\n",
      "Epoch 19/20\n",
      "60000/60000 [==============================] - 43s 722us/step - loss: 0.2183 - acc: 0.9171 - val_loss: 0.3055 - val_acc: 0.8956\n",
      "Epoch 20/20\n",
      "60000/60000 [==============================] - 35s 591us/step - loss: 0.2112 - acc: 0.9184 - val_loss: 0.3088 - val_acc: 0.8922\n"
     ]
    },
    {
     "data": {
      "text/plain": [
       "<keras.callbacks.History at 0x2bd57011128>"
      ]
     },
     "execution_count": 57,
     "metadata": {},
     "output_type": "execute_result"
    }
   ],
   "source": [
    "model.fit(x_train, y_train,\n",
    "          batch_size=batch_size,\n",
    "          epochs=epochs,\n",
    "          verbose=1, # verbose: Integer. 0, 1, or 2. Verbosity mode. 0 = silent, 1 = progress bar, 2 = one line per epoch.\n",
    "          validation_data=(x_test, y_test))"
   ]
  },
  {
   "cell_type": "markdown",
   "metadata": {},
   "source": [
    "# Evaluate model on test data"
   ]
  },
  {
   "cell_type": "code",
   "execution_count": 58,
   "metadata": {},
   "outputs": [
    {
     "name": "stdout",
     "output_type": "stream",
     "text": [
      "Test loss: 0.3088473710775375\n",
      "Test accuracy: 0.8922\n"
     ]
    }
   ],
   "source": [
    "score = model.evaluate(x_test, y_test, verbose=0)\n",
    "print('Test loss:', score[0])\n",
    "print('Test accuracy:', score[1])"
   ]
  },
  {
   "cell_type": "code",
   "execution_count": null,
   "metadata": {},
   "outputs": [],
   "source": []
  }
 ],
 "metadata": {
  "kernelspec": {
   "display_name": "Python 3",
   "language": "python",
   "name": "python3"
  },
  "language_info": {
   "codemirror_mode": {
    "name": "ipython",
    "version": 3
   },
   "file_extension": ".py",
   "mimetype": "text/x-python",
   "name": "python",
   "nbconvert_exporter": "python",
   "pygments_lexer": "ipython3",
   "version": "3.7.2"
  }
 },
 "nbformat": 4,
 "nbformat_minor": 2
}
